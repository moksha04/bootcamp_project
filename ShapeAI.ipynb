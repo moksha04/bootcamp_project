{
  "nbformat": 4,
  "nbformat_minor": 0,
  "metadata": {
    "colab": {
      "name": "ShapeAI.ipynb",
      "provenance": [],
      "collapsed_sections": []
    },
    "kernelspec": {
      "name": "python3",
      "display_name": "Python 3"
    },
    "language_info": {
      "name": "python"
    }
  },
  "cells": [
    {
      "cell_type": "code",
      "metadata": {
        "colab": {
          "base_uri": "https://localhost:8080/"
        },
        "id": "kayQfFEHXtdJ",
        "outputId": "edaa7a4f-3043-4a29-b53c-b6d896e24c9c"
      },
      "source": [
        "import hashlib\n",
        "hash_object = hashlib.md5(b'ShapeAI')\n",
        "print(\"md5 : \",hash_object.hexdigest())"
      ],
      "execution_count": 2,
      "outputs": [
        {
          "output_type": "stream",
          "text": [
            "md5 :  05a2faed9e25872336de734914c29ecb\n"
          ],
          "name": "stdout"
        }
      ]
    },
    {
      "cell_type": "code",
      "metadata": {
        "colab": {
          "base_uri": "https://localhost:8080/"
        },
        "id": "JqXkp9AWb6s8",
        "outputId": "5ea1b65b-f6fa-4629-9a5c-1b980b7b4547"
      },
      "source": [
        "import hashlib\n",
        "hash_object = hashlib.sha224(b'Harsh')\n",
        "hex_dig = hash_object.hexdigest()\n",
        "print(hex_dig)"
      ],
      "execution_count": 3,
      "outputs": [
        {
          "output_type": "stream",
          "text": [
            "a12141676b4f5a3ed324d220a90dd561a07c5a7519183ad35c2ae580\n"
          ],
          "name": "stdout"
        }
      ]
    }
  ]
}